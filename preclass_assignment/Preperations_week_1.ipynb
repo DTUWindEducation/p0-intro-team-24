{
 "cells": [
  {
   "cell_type": "code",
   "execution_count": 1,
   "metadata": {},
   "outputs": [],
   "source": [
    "import numpy as np      #Importing the packages\n"
   ]
  },
  {
   "cell_type": "markdown",
   "metadata": {},
   "source": [
    "Exercise 1"
   ]
  },
  {
   "cell_type": "code",
   "execution_count": 2,
   "metadata": {},
   "outputs": [
    {
     "name": "stdout",
     "output_type": "stream",
     "text": [
      "Hello, world!\n"
     ]
    }
   ],
   "source": [
    "def greet(name):        #Defining the function\n",
    "    print('Hello,',name+'!') #Combining it to a single string, and printing it\n",
    "\n",
    "greet('world') #Testing it"
   ]
  },
  {
   "cell_type": "markdown",
   "metadata": {},
   "source": [
    "Exercise 2"
   ]
  },
  {
   "cell_type": "code",
   "execution_count": 56,
   "metadata": {},
   "outputs": [
    {
     "name": "stdout",
     "output_type": "stream",
     "text": [
      "The story of Goldilocks\n",
      "Two giants brought Goldylock a bed in the size 173\n",
      "The bed was to big, Goldilocks was not happy!!\n",
      "\n",
      "After the failure, the giants asked their dwarvern frinds for help, surely they would not bring a bed to big.\n",
      "The dwarfs brought Goldilocks a bed in size 139\n",
      "The bed was to small, Goldilocks was not happy!!\n",
      "\n",
      "As nither the giants nor the dwarfs could satisfy Goldilocks, a third party had to be involved.\n",
      "They did not want to disturbe the great wizzard of the land, and disrupt his second (or third) retirement, but saw no other choise.\n",
      "They awekened the mighty, fair and legendary wizzard of the 3. kvadrant: Michael P!\n",
      "Whith the help of the legend himself a bed was created, naked, only with a lukewarm Haribo and a stick in the sand.\n",
      "As the 5 of them returned with the newforged bed, Michal beat up 7 old ladies, and bid his farewell.\n",
      "With beating hearts, the two giants and two dwarfs gave Goldilocks the bed that was size 145.\n",
      "Surely it would be the right size now that Michal P had helped.\n",
      "Goldilocks was happy, and would have extented her gratitude, if she was not slepping already.\n"
     ]
    }
   ],
   "source": [
    "def goldilocks(bedsize):      #Defining the function\n",
    "    if bedsize > 150:   #A check to see if the bed is to big\n",
    "        print('The bed was to big, Goldilocks was not happy!!')   #Text printet in a scenario where the bed is to big\n",
    "    elif bedsize < 140:     #A check to see if the bed is to small\n",
    "        print('The bed was to small, Goldilocks was not happy!!') #Text printet in a scenario where the bed is to samll\n",
    "    else:       #If not to big or to small, the size must be perfect\n",
    "        print('Goldilocks was happy, and would have extented her gratitude, if she was not slepping already.')  #Text printet in a scenario where the bed is perfect\n",
    "\n",
    "#testing the code with a story\n",
    "print(\"The story of Goldilocks\\nTwo giants brought Goldylock a bed in the size 173\")\n",
    "goldilocks(173)\n",
    "print(\"\\nAfter the failure, the giants asked their dwarvern frinds for help, surely they would not bring a bed to big.\\nThe dwarfs brought Goldilocks a bed in size 139\")\n",
    "goldilocks(139)\n",
    "print('\\nAs nither the giants nor the dwarfs could satisfy Goldilocks, a third party had to be involved.\\nThey did not want to disturbe the great wizzard of the land, and disrupt his second (or third) retirement, but saw no other choise.\\nThey awekened the mighty, fair and legendary wizzard of the 3. kvadrant: Michael P!\\nWhith the help of the legend himself a bed was created, naked, only with a lukewarm Haribo and a stick in the sand.\\nAs the 5 of them returned with the newforged bed, Michal beat up 7 old ladies, and bid his farewell.\\nWith beating hearts, the two giants and two dwarfs gave Goldilocks the bed that was size 145.\\nSurely it would be the right size now that Michal P had helped.')\n",
    "goldilocks(145)\n",
    "\n"
   ]
  },
  {
   "cell_type": "markdown",
   "metadata": {},
   "source": [
    "Exercise 3"
   ]
  },
  {
   "cell_type": "code",
   "execution_count": 55,
   "metadata": {},
   "outputs": [
    {
     "name": "stdout",
     "output_type": "stream",
     "text": [
      "[1 4 9]\n"
     ]
    }
   ],
   "source": [
    "def square_list(numbers): #Defining the function\n",
    "    print(np.square(numbers)) #Squaring the numbers\n",
    "\n",
    "square_list([1,2,3])    #Testing the code"
   ]
  },
  {
   "cell_type": "markdown",
   "metadata": {},
   "source": [
    "Exercise 4"
   ]
  },
  {
   "cell_type": "code",
   "execution_count": 118,
   "metadata": {},
   "outputs": [
    {
     "name": "stdout",
     "output_type": "stream",
     "text": [
      "[1, 1, 2, 3, 5, 8, 13, 21]\n"
     ]
    }
   ],
   "source": [
    "def fibonacci_stop(number): #Defining the function\n",
    "    array = ([None])*(number + 2)     #Making an empty list the size of the input numer + 2 (it's way bigger than it needs, at bigger inputs, which could be polished)\n",
    "    fibonacci_new = 1   #Defining the newest fibonacci number\n",
    "    fibonacci_old = 0   #Defining the oldest fibonacci number\n",
    "    count = 1           #Defining a counter\n",
    "    while fibonacci_new <= number:      #Making a while loop that runs undtil the new fibonacci number is bigger than the inputnumber\n",
    "        array[0] = 1                    #Difining the first fibonacci number\n",
    "        array[count] = fibonacci_new + fibonacci_old        #Difining the fibonacci numbers\n",
    "        fibonacci_old = fibonacci_new                       #Changing the new number to the old\n",
    "        fibonacci_new = array[count]                        #Defining the new new fibonacci number\n",
    "        count += 1                      #Counting\n",
    "    \n",
    "    fibonacci_array = [item for item in array if item is not None]  #Removing all the excess empty values from the list\n",
    "    del fibonacci_array[count-1]                                    #Deleting the last value in the list, as it has surpased the inputnumper\n",
    "    print(fibonacci_array)              #Printing the fibonacci list\n",
    "        \n",
    "fibonacci_stop(30)      #Testing the code"
   ]
  },
  {
   "cell_type": "markdown",
   "metadata": {},
   "source": [
    "Exercise 5"
   ]
  },
  {
   "cell_type": "code",
   "execution_count": 104,
   "metadata": {},
   "outputs": [
    {
     "name": "stdout",
     "output_type": "stream",
     "text": [
      "[-999, 2, 6, 95]\n"
     ]
    }
   ],
   "source": [
    "def clean_pitch(x,status):  #Defining the function\n",
    "\n",
    "    for i in range(len(x)):     #Maling a for loop in the lengt of one of the input list\n",
    "        if x[i] > 90 or x[i] < 0:   #Checking if the value in the list is out of the bounderies\n",
    "            if status[i] > 0:       #Checking if the status showed a mistake\n",
    "                x[i] = -999         #If both are true, change the value to -999 to show that something is wrong\n",
    "    print(x)            #Print the new list of data\n",
    "\n",
    "x = [-1, 2, 6, 95]      #Testing the code\n",
    "status = [1, 0, 0, 0]\n",
    "clean_pitch(x,status)"
   ]
  }
 ],
 "metadata": {
  "kernelspec": {
   "display_name": "base",
   "language": "python",
   "name": "python3"
  },
  "language_info": {
   "codemirror_mode": {
    "name": "ipython",
    "version": 3
   },
   "file_extension": ".py",
   "mimetype": "text/x-python",
   "name": "python",
   "nbconvert_exporter": "python",
   "pygments_lexer": "ipython3",
   "version": "3.10.9"
  }
 },
 "nbformat": 4,
 "nbformat_minor": 2
}
