{
 "cells": [
  {
   "cell_type": "code",
   "execution_count": 7,
   "metadata": {},
   "outputs": [],
   "source": [
    "\"\"\"A package to do some simple arithmetic.\n",
    "\"\"\"\n",
    "\n",
    "\n",
    "def square(x):\n",
    "    \"\"\"Calculate the square of a number.\n",
    "\n",
    "    Args:\n",
    "        x (int, float): The number to square.\n",
    "\n",
    "    Returns:\n",
    "        y: The square of the input.\n",
    "    \"\"\"\n",
    "    return x**2\n",
    "\n",
    "\n",
    "def power(x, m):\n",
    "    \"\"\"Raise a number to the mth power.\n",
    "\n",
    "    Args:\n",
    "        x (int, float): The number to raise.\n",
    "        m (int, float): The exponent.\n",
    "\n",
    "    Returns:\n",
    "        y: x raised to the mth power.\n",
    "    \"\"\"\n",
    "    return x**m"
   ]
  },
  {
   "cell_type": "code",
   "execution_count": 4,
   "metadata": {},
   "outputs": [],
   "source": [
    "\"\"\"Check some of the functions in arithmetic.\"\"\"\n",
    "\n",
    "\n",
    "\n",
    "def test_square_integer():\n",
    "    \"\"\"Test that the square function returns the correct value for an\n",
    "    integer input.\"\"\"\n",
    "    # given\n",
    "    x = 2\n",
    "    y_theo = 4\n",
    "    # when\n",
    "    y = square(x)\n",
    "    # then\n",
    "    assert y == y_theo\n",
    "\n",
    "\n",
    "# code to execute only if Python is executed directly on this module,\n",
    "# NOT on import\n",
    "if __name__ == '__main__':\n",
    "    test_square_integer()"
   ]
  },
  {
   "cell_type": "code",
   "execution_count": 5,
   "metadata": {},
   "outputs": [],
   "source": [
    "\"\"\"Check some of the functions in arithmetic.\n",
    "\"\"\"\n",
    "\n",
    "import numpy as np\n",
    "from pytest import raises\n",
    "\n",
    "\n",
    "def test_square_integer():\n",
    "    \"\"\"Test that the square function returns the correct value for an\n",
    "    integer input.\"\"\"\n",
    "    # given\n",
    "    x = 2\n",
    "    y_theo = 4\n",
    "    # when\n",
    "    y = square(x)\n",
    "    # then\n",
    "    assert y == y_theo\n",
    "\n",
    "\n",
    "def test_square_float():\n",
    "    \"\"\"Test that the square function returns the correct value for an\n",
    "    integer input.\"\"\"\n",
    "    # given\n",
    "    x = 3.4\n",
    "    y_theo = 11.56\n",
    "    # when\n",
    "    y = square(x)\n",
    "    # then\n",
    "    assert np.isclose(y, y_theo)\n",
    "\n",
    "\n",
    "def test_square_stringin():\n",
    "    \"\"\"Test an error is raised if a string is passed in.\"\"\"\n",
    "    # given\n",
    "    x = 'cat'\n",
    "    # when and then\n",
    "    with raises(TypeError):  # assert a TypeError is raised\n",
    "        square(x)\n",
    "\n",
    "\n",
    "# code to execute only if Python is executed directly on this module,\n",
    "# NOT on import\n",
    "if __name__ == '__main__':\n",
    "    test_square_integer()\n",
    "    test_square_float()\n",
    "    test_square_stringin()"
   ]
  },
  {
   "cell_type": "code",
   "execution_count": 9,
   "metadata": {},
   "outputs": [
    {
     "data": {
      "text/plain": [
       "11.559999999999999"
      ]
     },
     "execution_count": 9,
     "metadata": {},
     "output_type": "execute_result"
    }
   ],
   "source": [
    "square(3.4)"
   ]
  },
  {
   "cell_type": "code",
   "execution_count": 13,
   "metadata": {},
   "outputs": [
    {
     "data": {
      "text/plain": [
       "11.559999999999999"
      ]
     },
     "execution_count": 13,
     "metadata": {},
     "output_type": "execute_result"
    }
   ],
   "source": [
    "np.square(3.4)"
   ]
  },
  {
   "cell_type": "code",
   "execution_count": 16,
   "metadata": {},
   "outputs": [
    {
     "ename": "AssertionError",
     "evalue": "",
     "output_type": "error",
     "traceback": [
      "\u001b[1;31m---------------------------------------------------------------------------\u001b[0m",
      "\u001b[1;31mAssertionError\u001b[0m                            Traceback (most recent call last)",
      "Cell \u001b[1;32mIn[16], line 9\u001b[0m\n\u001b[0;32m      7\u001b[0m     \u001b[38;5;66;03m#then\u001b[39;00m\n\u001b[0;32m      8\u001b[0m     \u001b[38;5;28;01massert\u001b[39;00m y \u001b[38;5;241m==\u001b[39m y_theo\n\u001b[1;32m----> 9\u001b[0m \u001b[43mtest_square_float\u001b[49m\u001b[43m(\u001b[49m\u001b[43m)\u001b[49m\n",
      "Cell \u001b[1;32mIn[16], line 8\u001b[0m, in \u001b[0;36mtest_square_float\u001b[1;34m()\u001b[0m\n\u001b[0;32m      6\u001b[0m y \u001b[38;5;241m=\u001b[39m np\u001b[38;5;241m.\u001b[39msquare(x)\n\u001b[0;32m      7\u001b[0m \u001b[38;5;66;03m#then\u001b[39;00m\n\u001b[1;32m----> 8\u001b[0m \u001b[38;5;28;01massert\u001b[39;00m y \u001b[38;5;241m==\u001b[39m y_theo\n",
      "\u001b[1;31mAssertionError\u001b[0m: "
     ]
    }
   ],
   "source": [
    "def test_square_float():\n",
    "    #given\n",
    "    x = 3.4\n",
    "    y_theo = 11.56\n",
    "    #when\n",
    "    y = np.square(x)\n",
    "    #then\n",
    "    assert y == y_theo\n",
    "test_square_float()"
   ]
  },
  {
   "cell_type": "code",
   "execution_count": 24,
   "metadata": {},
   "outputs": [],
   "source": [
    "def test_square_float():\n",
    "    #given\n",
    "    x = 3.4\n",
    "    y_theo = 11.56\n",
    "    #when\n",
    "    y = np.square(x)\n",
    "    #then\n",
    "    assert np.isclose(y,y_theo)\n",
    "test_square_float()"
   ]
  },
  {
   "cell_type": "code",
   "execution_count": 37,
   "metadata": {},
   "outputs": [
    {
     "data": {
      "text/plain": [
       "True"
      ]
     },
     "execution_count": 37,
     "metadata": {},
     "output_type": "execute_result"
    }
   ],
   "source": [
    "np.isclose(100,100.001)"
   ]
  },
  {
   "cell_type": "code",
   "execution_count": null,
   "metadata": {},
   "outputs": [],
   "source": []
  }
 ],
 "metadata": {
  "kernelspec": {
   "display_name": "base",
   "language": "python",
   "name": "python3"
  },
  "language_info": {
   "codemirror_mode": {
    "name": "ipython",
    "version": 3
   },
   "file_extension": ".py",
   "mimetype": "text/x-python",
   "name": "python",
   "nbconvert_exporter": "python",
   "pygments_lexer": "ipython3",
   "version": "3.10.9"
  }
 },
 "nbformat": 4,
 "nbformat_minor": 2
}
