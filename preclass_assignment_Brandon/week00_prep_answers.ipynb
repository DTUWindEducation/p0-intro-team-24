{
 "cells": [
  {
   "cell_type": "code",
   "execution_count": null,
   "metadata": {},
   "outputs": [
    {
     "name": "stdout",
     "output_type": "stream",
     "text": [
      "Hello world\n"
     ]
    }
   ],
   "source": [
    "def greet (world):\n",
    "    print(f\"Hello {world}\")\n",
    "\n",
    "\n",
    "greet('world')\n",
    "\n",
    "\n",
    "\n",
    "    "
   ]
  },
  {
   "cell_type": "code",
   "execution_count": null,
   "metadata": {},
   "outputs": [
    {
     "name": "stdout",
     "output_type": "stream",
     "text": [
      "Enter bed size:\n"
     ]
    }
   ],
   "source": [
    "def goldilocks(bed):\n",
    "    if bed < 140:\n",
    "        print('Small :(')\n",
    "        return False\n",
    "    elif bed > 150:\n",
    "        print('Large :(')\n",
    "        return False\n",
    "    else:\n",
    "        print('It is perfect! :)')\n",
    "        return True\n",
    "\n",
    "while True:\n",
    "      print('Enter bed size:')\n",
    "      bed = int(input())  \n",
    "      if goldilocks(bed):\n",
    "          break\n",
    "\n",
    "\n",
    "\n"
   ]
  },
  {
   "cell_type": "code",
   "execution_count": null,
   "metadata": {},
   "outputs": [],
   "source": [
    "def square_list(numbers):\n",
    "    squared_numbers = []  \n",
    "    for num in numbers:   \n",
    "        squared_numbers.append(num ** 2)  #\n",
    "    return squared_numbers  \n",
    "\n",
    "\n",
    "enter = input(\"Enter numbers separated by spaces: \")  \n",
    "numbers = list(map(int, enter.split())) \n",
    "\n",
    "\n",
    "squared_numbers = square_list(numbers)\n",
    "print(\"Squared numbers:\", squared_numbers)\n"
   ]
  },
  {
   "cell_type": "code",
   "execution_count": null,
   "metadata": {},
   "outputs": [],
   "source": [
    "def fibonacci_stop(stop):\n",
    "    fibonacci= [1,1]\n",
    "    while True:\n",
    "          nextfibonacci= fibonacci[-1]+ fibonacci[-2]\n",
    "          if nextfibonacci>stop:\n",
    "             break\n",
    "          fibonacci.append(nextfibonacci)\n",
    "\n",
    "    return fibonacci\n",
    "\n",
    "stop = int(input(\"Enter the stop value for the Fibonacci sequence: \"))\n",
    "result = fibonacci_stop(stop)\n",
    "print(\"Fibonacci numbers:\", result)\n",
    "\n",
    "    \n",
    "\n",
    "              "
   ]
  },
  {
   "cell_type": "code",
   "execution_count": null,
   "metadata": {},
   "outputs": [],
   "source": [
    "def clean_pitch(pitch_angles, status_signals):\n",
    "    cleanedangles = []  \n",
    "    for pitch, status in zip(pitch_angles, status_signals):  # Iterar sobre ambas listas simultáneamente\n",
    "        if (pitch < 0 or pitch > 90) and status > 0:  \n",
    "            cleanedangles.append(-999)  \n",
    "        else:\n",
    "            cleanedangles.append(pitch) \n",
    "    return cleanedangles\n",
    "\n",
    "\n",
    "print(\"Write the pitch values(use commas):\")\n",
    "user_pitch_input = input()  \n",
    "pitch_angles = list(map(int, user_pitch_input.split(',')))  \n",
    "\n",
    "print(\"Write the Status Values(use commas)\")\n",
    "user_status_input = input()  \n",
    "status_signals = list(map(int, user_status_input.split(',')))  \n",
    "\n",
    "\n",
    "if len(pitch_angles) != len(status_signals):\n",
    "    print(\"Please make sure that both list have the same amount of numbers\")\n",
    "else:\n",
    "    \n",
    "    cleaned = clean_pitch(pitch_angles, status_signals)\n",
    "    print(\"Clean Pich values\", cleaned)\n",
    "\n"
   ]
  }
 ],
 "metadata": {
  "kernelspec": {
   "display_name": "Python 3",
   "language": "python",
   "name": "python3"
  },
  "language_info": {
   "codemirror_mode": {
    "name": "ipython",
    "version": 3
   },
   "file_extension": ".py",
   "mimetype": "text/x-python",
   "name": "python",
   "nbconvert_exporter": "python",
   "pygments_lexer": "ipython3",
   "version": "3.12.6"
  }
 },
 "nbformat": 4,
 "nbformat_minor": 2
}
